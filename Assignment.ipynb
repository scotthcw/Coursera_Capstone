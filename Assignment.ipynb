{
  "nbformat": 4,
  "nbformat_minor": 0,
  "metadata": {
    "colab": {
      "name": "Assignment.ipynb",
      "private_outputs": true,
      "provenance": [],
      "authorship_tag": "ABX9TyNHFmFqAL7jY5zDTxJ/yd3P",
      "include_colab_link": true
    },
    "kernelspec": {
      "name": "python3",
      "display_name": "Python 3"
    },
    "language_info": {
      "name": "python"
    }
  },
  "cells": [
    {
      "cell_type": "markdown",
      "metadata": {
        "id": "view-in-github",
        "colab_type": "text"
      },
      "source": [
        "<a href=\"https://colab.research.google.com/github/scotthcw/Coursera_Capstone/blob/PeerAssignment/Assignment.ipynb\" target=\"_parent\"><img src=\"https://colab.research.google.com/assets/colab-badge.svg\" alt=\"Open In Colab\"/></a>"
      ]
    },
    {
      "cell_type": "code",
      "metadata": {
        "id": "0oIx9wK3lcji"
      },
      "source": [
        "import numpy as np # library to handle data in a vectorized manner\n",
        "\n",
        "import pandas as pd # library for data analsysis\n",
        "pd.set_option('display.max_columns', None)\n",
        "pd.set_option('display.max_rows', None)\n",
        "\n",
        "import json # library to handle JSON files\n",
        "\n",
        "#!conda install -c conda-forge geopy --yes # uncomment this line if you haven't completed the Foursquare API lab\n",
        "from geopy.geocoders import Nominatim # convert an address into latitude and longitude values\n",
        "\n",
        "import requests # library to handle requests\n",
        "from pandas.io.json import json_normalize # tranform JSON file into a pandas dataframe\n",
        "\n",
        "# Matplotlib and associated plotting modules\n",
        "import matplotlib.cm as cm\n",
        "import matplotlib.colors as colors\n",
        "\n",
        "# import k-means from clustering stage\n",
        "from sklearn.cluster import KMeans\n",
        "\n",
        "#!conda install -c conda-forge folium=0.5.0 --yes # uncomment this line if you haven't completed the Foursquare API lab\n",
        "import folium # map rendering library\n",
        "\n",
        "print('Libraries imported.')"
      ],
      "execution_count": null,
      "outputs": []
    },
    {
      "cell_type": "code",
      "metadata": {
        "id": "DkxuVViVlgCt"
      },
      "source": [
        "CLIENT_ID = 'QMJFDRPLADQTU0WLSWID2WWYY51K4UNG3GJOT4B2NFMPC3LK' # your Foursquare ID\n",
        "CLIENT_SECRET = 'YVAJ5RVFPIT3QETVYVITDZU0EFLASFNKAN44EX4XSEZ34PQT' # your Foursquare Secret\n",
        "ACCESS_TOKEN = '4WOE5WEL53Y3RISWKNJAQG34FWEMS5DR2TX3401KMULFGBVQ' # your FourSquare Access Token\n",
        "VERSION = '20180604'\n",
        "LIMIT = 30\n",
        "print('Your credentails:')\n",
        "print('CLIENT_ID: ' + CLIENT_ID)\n",
        "print('CLIENT_SECRET:' + CLIENT_SECRET)"
      ],
      "execution_count": null,
      "outputs": []
    },
    {
      "cell_type": "code",
      "metadata": {
        "id": "38Oso0XCliEi"
      },
      "source": [
        "df = pd.read_csv('https://cf-courses-data.s3.us.cloud-object-storage.appdomain.cloud/IBMDeveloperSkillsNetwork-DS0701EN-SkillsNetwork/labs_v1/Geospatial_Coordinates.csv')"
      ],
      "execution_count": null,
      "outputs": []
    },
    {
      "cell_type": "code",
      "metadata": {
        "id": "TkLnHtmslkRs"
      },
      "source": [
        "!pip install geocoder\n",
        "import geocoder # import geocoder"
      ],
      "execution_count": null,
      "outputs": []
    },
    {
      "cell_type": "code",
      "metadata": {
        "id": "WYZRN-aZloAd"
      },
      "source": [
        "# Latitude & Longitude input\n",
        "i=0\n",
        "df ['Borough'] = \"\"\n",
        "df ['Neighborhood'] = \"\"\n",
        "geolocator = Nominatim(user_agent=\"foursquare_agent\")\n",
        "\n",
        "for i in range (df.shape[0]):\n",
        "  Latitude = str(df.iloc[i,1])\n",
        "  Longitude = str(df.iloc[i,2])\n",
        "  print (Latitude, Longitude)\n",
        "  lala = geolocator.reverse(Latitude+\",\"+Longitude)\n",
        "  #print (lala)\n",
        "  location = str(lala)\n",
        "  arrLoc = location.split(\",\")\n",
        "  print (arrLoc[-6])\n",
        "  print (arrLoc[1])\n",
        "  df.loc [i, 'Borough'] = arrLoc[-6]\n",
        "  df.loc [i, 'Neighborhood'] = arrLoc[1]\n",
        "\n",
        "df = df[['Postal Code', 'Borough', 'Neighborhood', 'Latitude', 'Longitude']]\n",
        "df.head()"
      ],
      "execution_count": null,
      "outputs": []
    },
    {
      "cell_type": "code",
      "metadata": {
        "id": "Qbsj9xGJlo97"
      },
      "source": [
        "# create map of New York using latitude and longitude values\n",
        "map_Toronto = folium.Map(location=[43.6532, -79.3832], zoom_start=10)\n",
        "\n",
        "# add markers to map\n",
        "for lat, lng, borough, neighborhood in zip(df['Latitude'], df['Longitude'], df['Borough'], df['Neighborhood']):\n",
        "    label = '{}, {}'.format(neighborhood, borough)\n",
        "    label = folium.Popup(label, parse_html=True)\n",
        "    folium.CircleMarker(\n",
        "        [lat, lng],\n",
        "        radius=5,\n",
        "        popup=label,\n",
        "        color='blue',\n",
        "        fill=True,\n",
        "        fill_color='#3186cc',\n",
        "        fill_opacity=0.7,\n",
        "        parse_html=False).add_to(map_Toronto)  \n",
        "    \n",
        "map_Toronto"
      ],
      "execution_count": null,
      "outputs": []
    },
    {
      "cell_type": "code",
      "metadata": {
        "id": "V9ZmDDINlrkj"
      },
      "source": [
        "# type your answer here\n",
        "radius = 500 # define radius\n",
        "# create URL\n",
        "url = 'https://api.foursquare.com/v2/venues/explore?&client_id={}&client_secret={}&v={}&ll={},{}&radius={}&limit={}'.format(\n",
        "    CLIENT_ID, \n",
        "    CLIENT_SECRET, \n",
        "    VERSION, \n",
        "    '43.6532', \n",
        "    '-79.3832', \n",
        "    radius, \n",
        "    LIMIT)\n",
        "url # display URL"
      ],
      "execution_count": null,
      "outputs": []
    },
    {
      "cell_type": "code",
      "metadata": {
        "id": "iSOdZcL1luno"
      },
      "source": [
        "results = requests.get(url).json()\n",
        "results"
      ],
      "execution_count": null,
      "outputs": []
    },
    {
      "cell_type": "code",
      "metadata": {
        "id": "oNyS0Zbqlx0Y"
      },
      "source": [
        "# function that extracts the category of the venue\n",
        "def get_category_type(row):\n",
        "    try:\n",
        "        categories_list = row['categories']\n",
        "    except:\n",
        "        categories_list = row['venue.categories']\n",
        "        \n",
        "    if len(categories_list) == 0:\n",
        "        return None\n",
        "    else:\n",
        "        return categories_list[0]['name']"
      ],
      "execution_count": null,
      "outputs": []
    },
    {
      "cell_type": "code",
      "metadata": {
        "id": "ViCYcLYql0w_"
      },
      "source": [
        "venues = results['response']['groups'][0]['items']\n",
        "    \n",
        "nearby_venues = json_normalize(venues) # flatten JSON\n",
        "\n",
        "# filter columns\n",
        "filtered_columns = ['venue.name', 'venue.categories', 'venue.location.lat', 'venue.location.lng']\n",
        "nearby_venues =nearby_venues.loc[:, filtered_columns]\n",
        "\n",
        "# filter the category for each row\n",
        "nearby_venues['venue.categories'] = nearby_venues.apply(get_category_type, axis=1)\n",
        "\n",
        "# clean columns\n",
        "nearby_venues.columns = [col.split(\".\")[-1] for col in nearby_venues.columns]\n",
        "\n",
        "nearby_venues.head()"
      ],
      "execution_count": null,
      "outputs": []
    },
    {
      "cell_type": "code",
      "metadata": {
        "id": "mZAzCQ7ol3gs"
      },
      "source": [
        "def getNearbyVenues(names, latitudes, longitudes, radius=500):\n",
        "    \n",
        "    venues_list=[]\n",
        "    for name, lat, lng in zip(names, latitudes, longitudes):\n",
        "        print(name)\n",
        "            \n",
        "        # create the API request URL\n",
        "        url = 'https://api.foursquare.com/v2/venues/explore?&client_id={}&client_secret={}&v={}&ll={},{}&radius={}&limit={}'.format(\n",
        "            CLIENT_ID, \n",
        "            CLIENT_SECRET, \n",
        "            VERSION, \n",
        "            lat, \n",
        "            lng, \n",
        "            radius, \n",
        "            LIMIT)\n",
        "            \n",
        "        # make the GET request\n",
        "        results = requests.get(url).json()[\"response\"]['groups'][0]['items']\n",
        "        \n",
        "        # return only relevant information for each nearby venue\n",
        "        venues_list.append([(\n",
        "            name, \n",
        "            lat, \n",
        "            lng, \n",
        "            v['venue']['name'], \n",
        "            v['venue']['location']['lat'], \n",
        "            v['venue']['location']['lng'],  \n",
        "            v['venue']['categories'][0]['name']) for v in results])\n",
        "\n",
        "    nearby_venues = pd.DataFrame([item for venue_list in venues_list for item in venue_list])\n",
        "    nearby_venues.columns = ['Neighborhood', \n",
        "                  'Neighborhood Latitude', \n",
        "                  'Neighborhood Longitude', \n",
        "                  'Venue', \n",
        "                  'Venue Latitude', \n",
        "                  'Venue Longitude', \n",
        "                  'Venue Category']\n",
        "    \n",
        "    return(nearby_venues)"
      ],
      "execution_count": null,
      "outputs": []
    },
    {
      "cell_type": "code",
      "metadata": {
        "id": "Af1-h8shl5lf"
      },
      "source": [
        "Toronto_venues = getNearbyVenues(names=df['Neighborhood'],\n",
        "                                   latitudes=df['Latitude'],\n",
        "                                   longitudes=df['Longitude']\n",
        "                                  )"
      ],
      "execution_count": null,
      "outputs": []
    },
    {
      "cell_type": "code",
      "metadata": {
        "id": "F0i2nVw3l7vc"
      },
      "source": [
        "print(Toronto_venues.shape)\n",
        "Toronto_venues.head()"
      ],
      "execution_count": null,
      "outputs": []
    },
    {
      "cell_type": "code",
      "metadata": {
        "id": "PevKQF3Rl-fs"
      },
      "source": [
        "Toronto_venues.groupby('Neighborhood').count()"
      ],
      "execution_count": null,
      "outputs": []
    },
    {
      "cell_type": "code",
      "metadata": {
        "id": "FXhraYwHmBW2"
      },
      "source": [
        "print('There are {} uniques categories.'.format(len(Toronto_venues['Venue Category'].unique())))"
      ],
      "execution_count": null,
      "outputs": []
    },
    {
      "cell_type": "code",
      "metadata": {
        "id": "VsD95bwAmFdA"
      },
      "source": [
        "# one hot encoding\n",
        "Toronto_onehot = pd.get_dummies(Toronto_venues[['Venue Category']], prefix=\"\", prefix_sep=\"\")\n",
        "\n",
        "# add neighborhood column back to dataframe\n",
        "Toronto_onehot['Neighborhood'] = Toronto_venues['Neighborhood'] \n",
        "\n",
        "# move neighborhood column to the first column\n",
        "fixed_columns = [Toronto_onehot.columns[-1]] + list(Toronto_onehot.columns[:-1])\n",
        "Toronto_onehot = Toronto_onehot[fixed_columns]\n",
        "\n",
        "Toronto_onehot.head()"
      ],
      "execution_count": null,
      "outputs": []
    },
    {
      "cell_type": "code",
      "metadata": {
        "id": "8N_qbQ0ymHdF"
      },
      "source": [
        "Toronto_onehot.shape"
      ],
      "execution_count": null,
      "outputs": []
    },
    {
      "cell_type": "code",
      "metadata": {
        "id": "DSAHSuz8mKBT"
      },
      "source": [
        "Toronto_grouped = Toronto_onehot.groupby('Neighborhood').mean().reset_index()\n",
        "Toronto_grouped"
      ],
      "execution_count": null,
      "outputs": []
    },
    {
      "cell_type": "code",
      "metadata": {
        "id": "PzeCH_xnmQLd"
      },
      "source": [
        "num_top_venues = 5\n",
        "\n",
        "for hood in Toronto_grouped['Neighborhood']:\n",
        "    print(\"----\"+hood+\"----\")\n",
        "    temp = Toronto_grouped[Toronto_grouped['Neighborhood'] == hood].T.reset_index()\n",
        "    temp.columns = ['venue','freq']\n",
        "    temp = temp.iloc[1:]\n",
        "    temp['freq'] = temp['freq'].astype(float)\n",
        "    temp = temp.round({'freq': 2})\n",
        "    print(temp.sort_values('freq', ascending=False).reset_index(drop=True).head(num_top_venues))\n",
        "    print('\\n')"
      ],
      "execution_count": null,
      "outputs": []
    },
    {
      "cell_type": "code",
      "metadata": {
        "id": "SkEIHyDQmRBG"
      },
      "source": [
        "def return_most_common_venues(row, num_top_venues):\n",
        "    row_categories = row.iloc[1:]\n",
        "    row_categories_sorted = row_categories.sort_values(ascending=False)\n",
        "    \n",
        "    return row_categories_sorted.index.values[0:num_top_venues]"
      ],
      "execution_count": null,
      "outputs": []
    },
    {
      "cell_type": "code",
      "metadata": {
        "id": "UfR51aedmS4D"
      },
      "source": [
        "num_top_venues = 10\n",
        "\n",
        "indicators = ['st', 'nd', 'rd']\n",
        "\n",
        "# create columns according to number of top venues\n",
        "columns = ['Neighborhood']\n",
        "for ind in np.arange(num_top_venues):\n",
        "    try:\n",
        "        columns.append('{}{} Most Common Venue'.format(ind+1, indicators[ind]))\n",
        "    except:\n",
        "        columns.append('{}th Most Common Venue'.format(ind+1))\n",
        "\n",
        "# create a new dataframe\n",
        "neighborhoods_venues_sorted = pd.DataFrame(columns=columns)\n",
        "neighborhoods_venues_sorted['Neighborhood'] = Toronto_grouped['Neighborhood']\n",
        "\n",
        "for ind in np.arange(Toronto_grouped.shape[0]):\n",
        "    neighborhoods_venues_sorted.iloc[ind, 1:] = return_most_common_venues(Toronto_grouped.iloc[ind, :], num_top_venues)\n",
        "\n",
        "neighborhoods_venues_sorted.head()"
      ],
      "execution_count": null,
      "outputs": []
    },
    {
      "cell_type": "code",
      "metadata": {
        "id": "0g_MFKkAmVcg"
      },
      "source": [
        "# set number of clusters\n",
        "kclusters = 5\n",
        "\n",
        "Toronto_grouped_clustering = Toronto_grouped.drop('Neighborhood', 1)\n",
        "\n",
        "# run k-means clustering\n",
        "kmeans = KMeans(n_clusters=kclusters, random_state=0).fit(Toronto_grouped_clustering)\n",
        "\n",
        "# check cluster labels generated for each row in the dataframe\n",
        "kmeans.labels_[0:10] "
      ],
      "execution_count": null,
      "outputs": []
    },
    {
      "cell_type": "code",
      "metadata": {
        "id": "7FxLnNF-mX8R"
      },
      "source": [
        "# add clustering labels\n",
        "neighborhoods_venues_sorted.insert(0, 'Cluster Labels', kmeans.labels_)\n",
        "\n",
        "Toronto_merged = df\n",
        "\n",
        "# merge Toronto_grouped with Toronto_data to add latitude/longitude for each neighborhood\n",
        "Toronto_merged = Toronto_merged.join(neighborhoods_venues_sorted.set_index('Neighborhood'), on='Neighborhood')\n",
        "\n",
        "Toronto_merged.head() # check the last columns!"
      ],
      "execution_count": null,
      "outputs": []
    },
    {
      "cell_type": "code",
      "metadata": {
        "id": "8CcmIxUJmbjR"
      },
      "source": [
        "#Toronto_merged = Toronto_merged.dropna('Cluster Labels')\n",
        "Toronto_merged = Toronto_merged.fillna(value=0)\n",
        "Toronto_merged['Cluster Labels'] = Toronto_merged['Cluster Labels'].astype(int)\n",
        "Toronto_merged.head()"
      ],
      "execution_count": null,
      "outputs": []
    },
    {
      "cell_type": "code",
      "metadata": {
        "id": "7Vz30mbHmeau"
      },
      "source": [
        "# create map\n",
        "map_clusters = folium.Map(location=[43.6532, -79.3832], zoom_start=11)\n",
        "\n",
        "# set color scheme for the clusters\n",
        "x = np.arange(kclusters)\n",
        "ys = [i + x + (i*x)**2 for i in range(kclusters)]\n",
        "colors_array = cm.rainbow(np.linspace(0, 1, len(ys)))\n",
        "rainbow = [colors.rgb2hex(i) for i in colors_array]\n",
        "\n",
        "# add markers to the map\n",
        "markers_colors = []\n",
        "for lat, lon, poi, cluster in zip(Toronto_merged['Latitude'], Toronto_merged['Longitude'], Toronto_merged['Neighborhood'], Toronto_merged['Cluster Labels']):\n",
        "    label = folium.Popup(str(poi) + ' Cluster ' + str(cluster), parse_html=True)\n",
        "    folium.CircleMarker(\n",
        "        [lat, lon],\n",
        "        radius=5,\n",
        "        popup=label,\n",
        "        color=rainbow[int(cluster)-1],\n",
        "        fill=True,\n",
        "        fill_color=rainbow[int(cluster)-1],\n",
        "        fill_opacity=0.7).add_to(map_clusters)\n",
        "       \n",
        "map_clusters"
      ],
      "execution_count": null,
      "outputs": []
    },
    {
      "cell_type": "code",
      "metadata": {
        "id": "brFj4BwymfWf"
      },
      "source": [
        "TC1 = Toronto_merged.loc[Toronto_merged['Cluster Labels'] == 0, Toronto_merged.columns[[1] + list(range(5, Toronto_merged.shape[1]))]]\n",
        "TC1.shape[0]"
      ],
      "execution_count": null,
      "outputs": []
    },
    {
      "cell_type": "code",
      "metadata": {
        "id": "yxRC9af4mi9B"
      },
      "source": [
        "TC2 = Toronto_merged.loc[Toronto_merged['Cluster Labels'] == 1, Toronto_merged.columns[[1] + list(range(5, Toronto_merged.shape[1]))]]\n",
        "TC2.shape[0]"
      ],
      "execution_count": null,
      "outputs": []
    },
    {
      "cell_type": "code",
      "metadata": {
        "id": "rntOf2hGmlQP"
      },
      "source": [
        "TC3=Toronto_merged.loc[Toronto_merged['Cluster Labels'] == 2, Toronto_merged.columns[[1] + list(range(5, Toronto_merged.shape[1]))]]\n",
        "TC3.shape[0]"
      ],
      "execution_count": null,
      "outputs": []
    },
    {
      "cell_type": "code",
      "metadata": {
        "id": "KEnT3qCumn-s"
      },
      "source": [
        "TC4=Toronto_merged.loc[Toronto_merged['Cluster Labels'] == 3, Toronto_merged.columns[[1] + list(range(5, Toronto_merged.shape[1]))]]\n",
        "TC4.shape[0]"
      ],
      "execution_count": null,
      "outputs": []
    },
    {
      "cell_type": "code",
      "metadata": {
        "id": "57kdn3r7mp6U"
      },
      "source": [
        "TC4=Toronto_merged.loc[Toronto_merged['Cluster Labels'] == 4, Toronto_merged.columns[[1] + list(range(5, Toronto_merged.shape[1]))]]\n",
        "TC4.shape[0]"
      ],
      "execution_count": null,
      "outputs": []
    },
    {
      "cell_type": "code",
      "metadata": {
        "id": "An_H3tGGmrQe"
      },
      "source": [
        "!wget -q -O 'newyork_data.json' https://cf-courses-data.s3.us.cloud-object-storage.appdomain.cloud/IBMDeveloperSkillsNetwork-DS0701EN-SkillsNetwork/labs/newyork_data.json\n",
        "print('Data downloaded!')"
      ],
      "execution_count": null,
      "outputs": []
    },
    {
      "cell_type": "code",
      "metadata": {
        "id": "yqjdn8cJmvYs"
      },
      "source": [
        "with open('newyork_data.json') as json_data:\n",
        "    newyork_data = json.load(json_data)"
      ],
      "execution_count": null,
      "outputs": []
    },
    {
      "cell_type": "code",
      "metadata": {
        "id": "Khz71DVomxYC"
      },
      "source": [
        "neighborhoods_data = newyork_data['features']"
      ],
      "execution_count": null,
      "outputs": []
    },
    {
      "cell_type": "code",
      "metadata": {
        "id": "lHC7Qge8myEd"
      },
      "source": [
        "# define the dataframe columns\n",
        "column_names = ['Borough', 'Neighborhood', 'Latitude', 'Longitude'] \n",
        "\n",
        "# instantiate the dataframe\n",
        "neighborhoods = pd.DataFrame(columns=column_names)\n",
        "neighborhoods"
      ],
      "execution_count": null,
      "outputs": []
    },
    {
      "cell_type": "code",
      "metadata": {
        "id": "lwJEchj-mzxS"
      },
      "source": [
        "for data in neighborhoods_data:\n",
        "    borough = neighborhood_name = data['properties']['borough'] \n",
        "    neighborhood_name = data['properties']['name']\n",
        "        \n",
        "    neighborhood_latlon = data['geometry']['coordinates']\n",
        "    neighborhood_lat = neighborhood_latlon[1]\n",
        "    neighborhood_lon = neighborhood_latlon[0]\n",
        "    \n",
        "    neighborhoods = neighborhoods.append({'Borough': borough,\n",
        "                                          'Neighborhood': neighborhood_name,\n",
        "                                          'Latitude': neighborhood_lat,\n",
        "                                          'Longitude': neighborhood_lon}, ignore_index=True)\n",
        "neighborhoods"
      ],
      "execution_count": null,
      "outputs": []
    },
    {
      "cell_type": "code",
      "metadata": {
        "id": "wd7pJ8wdm19k"
      },
      "source": [
        "address = 'New York City, NY'\n",
        "\n",
        "geolocator = Nominatim(user_agent=\"ny_explorer\")\n",
        "location = geolocator.geocode(address)\n",
        "latitude = location.latitude\n",
        "longitude = location.longitude\n",
        "print('The geograpical coordinate of New York City are {}, {}.'.format(latitude, longitude))"
      ],
      "execution_count": null,
      "outputs": []
    },
    {
      "cell_type": "code",
      "metadata": {
        "id": "uta_4r4Um5Cr"
      },
      "source": [
        "map_newyork = folium.Map(location=[latitude, longitude], zoom_start=10)\n",
        "\n",
        "# add markers to map\n",
        "for lat, lng, borough, neighborhood in zip(neighborhoods['Latitude'], neighborhoods['Longitude'], neighborhoods['Borough'], neighborhoods['Neighborhood']):\n",
        "    label = '{}, {}'.format(neighborhood, borough)\n",
        "    label = folium.Popup(label, parse_html=True)\n",
        "    folium.CircleMarker(\n",
        "        [lat, lng],\n",
        "        radius=5,\n",
        "        popup=label,\n",
        "        color='blue',\n",
        "        fill=True,\n",
        "        fill_color='#3186cc',\n",
        "        fill_opacity=0.7,\n",
        "        parse_html=False).add_to(map_newyork)  \n",
        "    \n",
        "map_newyork"
      ],
      "execution_count": null,
      "outputs": []
    },
    {
      "cell_type": "code",
      "metadata": {
        "id": "SYXKy4hNm7ZG"
      },
      "source": [
        "# type your answer here\n",
        "radius = 500 # define radius\n",
        "\n",
        "# create URL\n",
        "url = 'https://api.foursquare.com/v2/venues/explore?&client_id={}&client_secret={}&v={}&ll={},{}&radius={}&limit={}'.format(\n",
        "    CLIENT_ID, \n",
        "    CLIENT_SECRET, \n",
        "    VERSION, \n",
        "    latitude, \n",
        "    longitude, \n",
        "    radius, \n",
        "    LIMIT)"
      ],
      "execution_count": null,
      "outputs": []
    },
    {
      "cell_type": "code",
      "metadata": {
        "id": "C5ExLi-Um_vs"
      },
      "source": [
        "results = requests.get(url).json()\n",
        "results"
      ],
      "execution_count": null,
      "outputs": []
    },
    {
      "cell_type": "code",
      "metadata": {
        "id": "e-0ISqNenAjg"
      },
      "source": [
        "def get_category_type(row):\n",
        "    try:\n",
        "        categories_list = row['categories']\n",
        "    except:\n",
        "        categories_list = row['venue.categories']\n",
        "        \n",
        "    if len(categories_list) == 0:\n",
        "        return None\n",
        "    else:\n",
        "        return categories_list[0]['name']"
      ],
      "execution_count": null,
      "outputs": []
    },
    {
      "cell_type": "code",
      "metadata": {
        "id": "VGhvkWOSnDDO"
      },
      "source": [
        "venues = results['response']['groups'][0]['items']\n",
        "    \n",
        "nearby_venues = json_normalize(venues) # flatten JSON\n",
        "\n",
        "# filter columns\n",
        "filtered_columns = ['venue.name', 'venue.categories', 'venue.location.lat', 'venue.location.lng']\n",
        "nearby_venues =nearby_venues.loc[:, filtered_columns]\n",
        "\n",
        "# filter the category for each row\n",
        "nearby_venues['venue.categories'] = nearby_venues.apply(get_category_type, axis=1)\n",
        "\n",
        "# clean columns\n",
        "nearby_venues.columns = [col.split(\".\")[-1] for col in nearby_venues.columns]\n",
        "\n",
        "nearby_venues.head()"
      ],
      "execution_count": null,
      "outputs": []
    },
    {
      "cell_type": "code",
      "metadata": {
        "id": "jZMFEzzcnFdC"
      },
      "source": [
        "def getNearbyVenues(names, latitudes, longitudes, radius=500):\n",
        "    \n",
        "    venues_list=[]\n",
        "    for name, lat, lng in zip(names, latitudes, longitudes):\n",
        "        print(name)\n",
        "            \n",
        "        # create the API request URL\n",
        "        url = 'https://api.foursquare.com/v2/venues/explore?&client_id={}&client_secret={}&v={}&ll={},{}&radius={}&limit={}'.format(\n",
        "            CLIENT_ID, \n",
        "            CLIENT_SECRET, \n",
        "            VERSION, \n",
        "            lat, \n",
        "            lng, \n",
        "            radius, \n",
        "            LIMIT)\n",
        "            \n",
        "        # make the GET request\n",
        "        results = requests.get(url).json()[\"response\"]['groups'][0]['items']\n",
        "        \n",
        "        # return only relevant information for each nearby venue\n",
        "        venues_list.append([(\n",
        "            name, \n",
        "            lat, \n",
        "            lng, \n",
        "            v['venue']['name'], \n",
        "            v['venue']['location']['lat'], \n",
        "            v['venue']['location']['lng'],  \n",
        "            v['venue']['categories'][0]['name']) for v in results])\n",
        "\n",
        "    nearby_venues = pd.DataFrame([item for venue_list in venues_list for item in venue_list])\n",
        "    nearby_venues.columns = ['Neighborhood', \n",
        "                  'Neighborhood Latitude', \n",
        "                  'Neighborhood Longitude', \n",
        "                  'Venue', \n",
        "                  'Venue Latitude', \n",
        "                  'Venue Longitude', \n",
        "                  'Venue Category']\n",
        "    \n",
        "    return(nearby_venues)"
      ],
      "execution_count": null,
      "outputs": []
    },
    {
      "cell_type": "code",
      "metadata": {
        "id": "UIauxxbLnIcJ"
      },
      "source": [
        "NY_venues = getNearbyVenues(names=neighborhoods['Neighborhood'],\n",
        "                                   latitudes=neighborhoods['Latitude'],\n",
        "                                   longitudes=neighborhoods['Longitude']\n",
        "                                  )"
      ],
      "execution_count": null,
      "outputs": []
    },
    {
      "cell_type": "code",
      "metadata": {
        "id": "pEoFcwkGnKKv"
      },
      "source": [
        "NY_venues.groupby('Neighborhood').count()"
      ],
      "execution_count": null,
      "outputs": []
    },
    {
      "cell_type": "code",
      "metadata": {
        "id": "ooasszFSnMYP"
      },
      "source": [
        "# one hot encoding\n",
        "NY_onehot = pd.get_dummies(NY_venues[['Venue Category']], prefix=\"\", prefix_sep=\"\")\n",
        "\n",
        "# add neighborhood column back to dataframe\n",
        "NY_onehot['Neighborhood'] = NY_venues['Neighborhood'] \n",
        "\n",
        "# move neighborhood column to the first column\n",
        "fixed_columns = [NY_onehot.columns[-1]] + list(NY_onehot.columns[:-1])\n",
        "NY_onehot = NY_onehot[fixed_columns]\n",
        "\n",
        "NY_onehot.head()"
      ],
      "execution_count": null,
      "outputs": []
    },
    {
      "cell_type": "code",
      "metadata": {
        "id": "3iPuh7lenOQZ"
      },
      "source": [
        "print('There are {} uniques categories.'.format(len(NY_venues['Venue Category'].unique())))"
      ],
      "execution_count": null,
      "outputs": []
    },
    {
      "cell_type": "code",
      "metadata": {
        "id": "bG8AwmllnQDs"
      },
      "source": [
        "# one hot encoding\n",
        "NY_onehot = pd.get_dummies(NY_venues[['Venue Category']], prefix=\"\", prefix_sep=\"\")\n",
        "\n",
        "# add neighborhood column back to dataframe\n",
        "NY_onehot['Neighborhood'] = NY_venues['Neighborhood'] \n",
        "\n",
        "# move neighborhood column to the first column\n",
        "fixed_columns = [NY_onehot.columns[-1]] + list(NY_onehot.columns[:-1])\n",
        "NY_onehot = NY_onehot[fixed_columns]\n",
        "\n",
        "NY_onehot.head()"
      ],
      "execution_count": null,
      "outputs": []
    },
    {
      "cell_type": "code",
      "metadata": {
        "id": "lgh-N4PenR6K"
      },
      "source": [
        "NY_grouped = NY_onehot.groupby('Neighborhood').mean().reset_index()\n",
        "NY_grouped"
      ],
      "execution_count": null,
      "outputs": []
    },
    {
      "cell_type": "code",
      "metadata": {
        "id": "hVuS-NYonUrH"
      },
      "source": [
        "num_top_venues = 5\n",
        "\n",
        "for hood in NY_grouped['Neighborhood']:\n",
        "    print(\"----\"+hood+\"----\")\n",
        "    temp = NY_grouped[NY_grouped['Neighborhood'] == hood].T.reset_index()\n",
        "    temp.columns = ['venue','freq']\n",
        "    temp = temp.iloc[1:]\n",
        "    temp['freq'] = temp['freq'].astype(float)\n",
        "    temp = temp.round({'freq': 2})\n",
        "    print(temp.sort_values('freq', ascending=False).reset_index(drop=True).head(num_top_venues))\n",
        "    print('\\n')"
      ],
      "execution_count": null,
      "outputs": []
    },
    {
      "cell_type": "code",
      "metadata": {
        "id": "tZJAH695nWeM"
      },
      "source": [
        "def return_most_common_venues(row, num_top_venues):\n",
        "    row_categories = row.iloc[1:]\n",
        "    row_categories_sorted = row_categories.sort_values(ascending=False)\n",
        "    \n",
        "    return row_categories_sorted.index.values[0:num_top_venues]"
      ],
      "execution_count": null,
      "outputs": []
    },
    {
      "cell_type": "code",
      "metadata": {
        "id": "T_-lAYLcnYH2"
      },
      "source": [
        "num_top_venues = 10\n",
        "\n",
        "indicators = ['st', 'nd', 'rd']\n",
        "\n",
        "# create columns according to number of top venues\n",
        "columns = ['Neighborhood']\n",
        "for ind in np.arange(num_top_venues):\n",
        "    try:\n",
        "        columns.append('{}{} Most Common Venue'.format(ind+1, indicators[ind]))\n",
        "    except:\n",
        "        columns.append('{}th Most Common Venue'.format(ind+1))\n",
        "\n",
        "# create a new dataframe\n",
        "neighborhoods_venues_sorted = pd.DataFrame(columns=columns)\n",
        "neighborhoods_venues_sorted['Neighborhood'] = NY_grouped['Neighborhood']\n",
        "\n",
        "for ind in np.arange(NY_grouped.shape[0]):\n",
        "    neighborhoods_venues_sorted.iloc[ind, 1:] = return_most_common_venues(NY_grouped.iloc[ind, :], num_top_venues)\n",
        "\n",
        "neighborhoods_venues_sorted.head()"
      ],
      "execution_count": null,
      "outputs": []
    },
    {
      "cell_type": "code",
      "metadata": {
        "id": "41wY3I93nbOw"
      },
      "source": [
        "# set number of clusters\n",
        "kclusters = 5\n",
        "\n",
        "NY_grouped_clustering = NY_grouped.drop('Neighborhood', 1)\n",
        "\n",
        "# run k-means clustering\n",
        "kmeans = KMeans(n_clusters=kclusters, random_state=0).fit(NY_grouped_clustering)\n",
        "\n",
        "# check cluster labels generated for each row in the dataframe\n",
        "kmeans.labels_[0:10] "
      ],
      "execution_count": null,
      "outputs": []
    },
    {
      "cell_type": "code",
      "metadata": {
        "id": "6Nv3Ex2CndQh"
      },
      "source": [
        "neighborhoods.head()"
      ],
      "execution_count": null,
      "outputs": []
    },
    {
      "cell_type": "code",
      "metadata": {
        "id": "usvcjEACnfXd"
      },
      "source": [
        "# add clustering labels\n",
        "#neighborhoods_venues_sorted.insert(0, 'Cluster Labels', kmeans.labels_)\n",
        "\n",
        "NY_merged = neighborhoods\n",
        "\n",
        "# merge NY_grouped with NY_data to add latitude/longitude for each neighborhood\n",
        "NY_merged = NY_merged.join(neighborhoods_venues_sorted.set_index('Neighborhood'), on='Neighborhood')\n",
        "\n",
        "NY_merged.head() # check the last columns!"
      ],
      "execution_count": null,
      "outputs": []
    },
    {
      "cell_type": "code",
      "metadata": {
        "id": "JQzoEHe0ng91"
      },
      "source": [
        "# create map\n",
        "map_clusters = folium.Map(location=[latitude, longitude], zoom_start=11)\n",
        "\n",
        "# set color scheme for the clusters\n",
        "x = np.arange(kclusters)\n",
        "ys = [i + x + (i*x)**2 for i in range(kclusters)]\n",
        "colors_array = cm.rainbow(np.linspace(0, 1, len(ys)))\n",
        "rainbow = [colors.rgb2hex(i) for i in colors_array]\n",
        "\n",
        "# add markers to the map\n",
        "markers_colors = []\n",
        "for lat, lon, poi, cluster in zip(NY_merged['Latitude'], NY_merged['Longitude'], NY_merged['Neighborhood'], NY_merged['Cluster Labels']):\n",
        "    label = folium.Popup(str(poi) + ' Cluster ' + str(cluster), parse_html=True)\n",
        "    folium.CircleMarker(\n",
        "        [lat, lon],\n",
        "        radius=5,\n",
        "        popup=label,\n",
        "        color=rainbow[cluster-1],\n",
        "        fill=True,\n",
        "        fill_color=rainbow[cluster-1],\n",
        "        fill_opacity=0.7).add_to(map_clusters)\n",
        "       \n",
        "map_clusters"
      ],
      "execution_count": null,
      "outputs": []
    },
    {
      "cell_type": "code",
      "metadata": {
        "id": "GwpjgWRqnjKe"
      },
      "source": [
        "print('Cluster 1: ', NY_merged.loc[NY_merged['Cluster Labels'] == 0, NY_merged.columns[[1] + list(range(5, NY_merged.shape[1]))]].shape[0])\n",
        "print('Cluster 2: ', NY_merged.loc[NY_merged['Cluster Labels'] == 1, NY_merged.columns[[1] + list(range(5, NY_merged.shape[1]))]].shape[0])\n",
        "print('Cluster 3: ', NY_merged.loc[NY_merged['Cluster Labels'] == 2, NY_merged.columns[[1] + list(range(5, NY_merged.shape[1]))]].shape[0])\n",
        "print('Cluster 4: ', NY_merged.loc[NY_merged['Cluster Labels'] == 3, NY_merged.columns[[1] + list(range(5, NY_merged.shape[1]))]].shape[0])\n",
        "print('Cluster 5: ', NY_merged.loc[NY_merged['Cluster Labels'] == 4, NY_merged.columns[[1] + list(range(5, NY_merged.shape[1]))]].shape[0])\n",
        "            "
      ],
      "execution_count": null,
      "outputs": []
    },
    {
      "cell_type": "code",
      "metadata": {
        "id": "pADbInOhnlRd"
      },
      "source": [
        "url = 'https://en.wikipedia.org/wiki/Arrondissements_of_Paris'\n",
        "Paris_result = requests.get(url)\n",
        "Paris_result"
      ],
      "execution_count": null,
      "outputs": []
    },
    {
      "cell_type": "code",
      "metadata": {
        "id": "gGBF4aqdnn_j"
      },
      "source": [
        "from bs4 import BeautifulSoup\n",
        "soup = BeautifulSoup(Paris_result.content, 'html.parser')"
      ],
      "execution_count": null,
      "outputs": []
    },
    {
      "cell_type": "code",
      "metadata": {
        "id": "NuoLRSTJnwb8"
      },
      "source": [
        "soup"
      ],
      "execution_count": null,
      "outputs": []
    },
    {
      "cell_type": "code",
      "metadata": {
        "id": "mwwptnOQnxI9"
      },
      "source": [
        "neighbours = []\n",
        "tables = soup.find_all('table',attrs={'class':'wikitable sortable'})\n",
        "for table in tables:\n",
        "  table_rows = table.find_all('tr',attrs={'align':'center'})\n",
        "  for table_row in table_rows:\n",
        "    table_cells = table_row.find_all('td')\n",
        "    #print (table_cells[1])\n",
        "    neighbours.append (table_cells[1].text)\n",
        "\n",
        "neighbours"
      ],
      "execution_count": null,
      "outputs": []
    },
    {
      "cell_type": "code",
      "metadata": {
        "id": "XAcmsWv2ny21"
      },
      "source": [
        "from pandas import DataFrame\n",
        "df_Paris = DataFrame (neighbours,columns=['Name'])\n",
        "df_Paris.shape[0]\n",
        "df_Paris.iloc[0,0]"
      ],
      "execution_count": null,
      "outputs": []
    },
    {
      "cell_type": "code",
      "metadata": {
        "id": "Y1beQD4yn09F"
      },
      "source": [
        "geolocator = Nominatim()\n",
        "df_Paris['latitude'] = \"\"\n",
        "df_Paris['longitude'] = \"\"\n",
        "i=0\n",
        "for i in range (df_Paris.shape[0]):\n",
        "  print(df_Paris.iloc[i,0])\n",
        "  address = df_Paris.iloc[i,0]\n",
        "  location = geolocator.geocode(address)\n",
        "  df_Paris.iloc[i,1] = location.latitude\n",
        "  df_Paris.iloc[i,2] = location.longitude\n",
        "\n",
        "df_Paris"
      ],
      "execution_count": null,
      "outputs": []
    },
    {
      "cell_type": "code",
      "metadata": {
        "id": "WjCRK_yen3Cb"
      },
      "source": [
        "address = 'Paris'\n",
        "\n",
        "geolocator = Nominatim()\n",
        "location = geolocator.geocode(address)\n",
        "latitude = location.latitude\n",
        "longitude = location.longitude\n",
        "print('The geograpical coordinate of New York City are {}, {}.'.format(latitude, longitude))"
      ],
      "execution_count": null,
      "outputs": []
    },
    {
      "cell_type": "code",
      "metadata": {
        "id": "7QE0_bRcn45y"
      },
      "source": [
        "map_Paris = folium.Map(location=[latitude, longitude], zoom_start=10)\n",
        "\n",
        "# add markers to map\n",
        "for lat, lng, neighborhood in zip(df_Paris['latitude'], df_Paris['longitude'], df_Paris['Name']):\n",
        "    label = '{}'.format(neighborhood)\n",
        "    label = folium.Popup(label, parse_html=True)\n",
        "    folium.CircleMarker(\n",
        "        [lat, lng],\n",
        "        radius=5,\n",
        "        popup=label,\n",
        "        color='blue',\n",
        "        fill=True,\n",
        "        fill_color='#3186cc',\n",
        "        fill_opacity=0.7,\n",
        "        parse_html=False).add_to(map_Paris)  \n",
        "    \n",
        "map_Paris\n"
      ],
      "execution_count": null,
      "outputs": []
    },
    {
      "cell_type": "code",
      "metadata": {
        "id": "3SgJRFQPn61B"
      },
      "source": [
        "def getNearbyVenues(names, latitudes, longitudes, radius=500):\n",
        "    \n",
        "    venues_list=[]\n",
        "    for name, lat, lng in zip(names, latitudes, longitudes):\n",
        "        print(name)\n",
        "            \n",
        "        # create the API request URL\n",
        "        url = 'https://api.foursquare.com/v2/venues/explore?&client_id={}&client_secret={}&v={}&ll={},{}&radius={}&limit={}'.format(\n",
        "            CLIENT_ID, \n",
        "            CLIENT_SECRET, \n",
        "            VERSION, \n",
        "            lat, \n",
        "            lng, \n",
        "            radius, \n",
        "            LIMIT)\n",
        "            \n",
        "        # make the GET request\n",
        "        results = requests.get(url).json()[\"response\"]['groups'][0]['items']\n",
        "        \n",
        "        # return only relevant information for each nearby venue\n",
        "        venues_list.append([(\n",
        "            name, \n",
        "            lat, \n",
        "            lng, \n",
        "            v['venue']['name'], \n",
        "            v['venue']['location']['lat'], \n",
        "            v['venue']['location']['lng'],  \n",
        "            v['venue']['categories'][0]['name']) for v in results])\n",
        "\n",
        "    nearby_venues = pd.DataFrame([item for venue_list in venues_list for item in venue_list])\n",
        "    nearby_venues.columns = ['Neighborhood', \n",
        "                  'Neighborhood Latitude', \n",
        "                  'Neighborhood Longitude', \n",
        "                  'Venue', \n",
        "                  'Venue Latitude', \n",
        "                  'Venue Longitude', \n",
        "                  'Venue Category']\n",
        "    \n",
        "    return(nearby_venues)"
      ],
      "execution_count": null,
      "outputs": []
    },
    {
      "cell_type": "code",
      "metadata": {
        "id": "7pqVYlyyn9iJ"
      },
      "source": [
        "Paris_venues = getNearbyVenues(names=df_Paris['Name'],\n",
        "                                   latitudes=df_Paris['latitude'],\n",
        "                                   longitudes=df_Paris['longitude']\n",
        "                                  )"
      ],
      "execution_count": null,
      "outputs": []
    },
    {
      "cell_type": "code",
      "metadata": {
        "id": "tiOd7x9cn_Wu"
      },
      "source": [
        "Paris_venues.groupby('Neighborhood').count()"
      ],
      "execution_count": null,
      "outputs": []
    },
    {
      "cell_type": "code",
      "metadata": {
        "id": "zhLIqABhoBVb"
      },
      "source": [
        "# one hot encoding\n",
        "Paris_onehot = pd.get_dummies(Paris_venues[['Venue Category']], prefix=\"\", prefix_sep=\"\")\n",
        "\n",
        "# add neighborhood column back to dataframe\n",
        "Paris_onehot['Neighborhood'] = Paris_venues['Neighborhood'] \n",
        "\n",
        "# move neighborhood column to the first column\n",
        "fixed_columns = [Paris_onehot.columns[-1]] + list(Paris_onehot.columns[:-1])\n",
        "Paris_onehot = Paris_onehot[fixed_columns]\n",
        "\n",
        "Paris_onehot.head()"
      ],
      "execution_count": null,
      "outputs": []
    },
    {
      "cell_type": "code",
      "metadata": {
        "id": "Z7Jr04s2oDm-"
      },
      "source": [
        "Paris_grouped = Paris_onehot.groupby('Neighborhood').mean().reset_index()\n",
        "Paris_grouped"
      ],
      "execution_count": null,
      "outputs": []
    },
    {
      "cell_type": "code",
      "metadata": {
        "id": "urVVvrW4oFc2"
      },
      "source": [
        "num_top_venues = 5\n",
        "\n",
        "for hood in Paris_grouped['Neighborhood']:\n",
        "    print(\"----\"+hood+\"----\")\n",
        "    temp = Paris_grouped[Paris_grouped['Neighborhood'] == hood].T.reset_index()\n",
        "    temp.columns = ['venue','freq']\n",
        "    temp = temp.iloc[1:]\n",
        "    temp['freq'] = temp['freq'].astype(float)\n",
        "    temp = temp.round({'freq': 2})\n",
        "    print(temp.sort_values('freq', ascending=False).reset_index(drop=True).head(num_top_venues))\n",
        "    print('\\n')"
      ],
      "execution_count": null,
      "outputs": []
    },
    {
      "cell_type": "code",
      "metadata": {
        "id": "Sa2kpTOdoFf_"
      },
      "source": [
        "def return_most_common_venues(row, num_top_venues):\n",
        "    row_categories = row.iloc[1:]\n",
        "    row_categories_sorted = row_categories.sort_values(ascending=False)\n",
        "    \n",
        "    return row_categories_sorted.index.values[0:num_top_venues]"
      ],
      "execution_count": null,
      "outputs": []
    },
    {
      "cell_type": "code",
      "metadata": {
        "id": "u1KV1nnXoKPC"
      },
      "source": [
        "num_top_venues = 10\n",
        "\n",
        "indicators = ['st', 'nd', 'rd']\n",
        "\n",
        "# create columns according to number of top venues\n",
        "columns = ['Neighborhood']\n",
        "for ind in np.arange(num_top_venues):\n",
        "    try:\n",
        "        columns.append('{}{} Most Common Venue'.format(ind+1, indicators[ind]))\n",
        "    except:\n",
        "        columns.append('{}th Most Common Venue'.format(ind+1))\n",
        "\n",
        "# create a new dataframe\n",
        "neighborhoods_venues_sorted = pd.DataFrame(columns=columns)\n",
        "neighborhoods_venues_sorted['Neighborhood'] = Paris_grouped['Neighborhood']\n",
        "\n",
        "for ind in np.arange(Paris_grouped.shape[0]):\n",
        "    neighborhoods_venues_sorted.iloc[ind, 1:] = return_most_common_venues(Paris_grouped.iloc[ind, :], num_top_venues)\n",
        "\n",
        "neighborhoods_venues_sorted.head()"
      ],
      "execution_count": null,
      "outputs": []
    },
    {
      "cell_type": "code",
      "metadata": {
        "id": "9S_DKMg7oMJx"
      },
      "source": [
        "# set number of clusters\n",
        "kclusters = 5\n",
        "\n",
        "Paris_grouped_clustering = Paris_grouped.drop('Neighborhood', 1)\n",
        "\n",
        "# run k-means clustering\n",
        "kmeans = KMeans(n_clusters=kclusters, random_state=0).fit(Paris_grouped_clustering)\n",
        "\n",
        "# check cluster labels generated for each row in the dataframe\n",
        "kmeans.labels_[0:10] "
      ],
      "execution_count": null,
      "outputs": []
    },
    {
      "cell_type": "code",
      "metadata": {
        "id": "ZELOwhpuoOVa"
      },
      "source": [
        "df_Paris.head()"
      ],
      "execution_count": null,
      "outputs": []
    },
    {
      "cell_type": "code",
      "metadata": {
        "id": "FcLaxzKJoQyw"
      },
      "source": [
        "neighborhoods_venues_sorted.head()"
      ],
      "execution_count": null,
      "outputs": []
    },
    {
      "cell_type": "code",
      "metadata": {
        "id": "xSJ1PduOoUYQ"
      },
      "source": [
        "# add clustering labels\n",
        "#neighborhoods_venues_sorted.insert(0, 'Cluster Labels', kmeans.labels_)\n",
        "\n",
        "Paris_merged = df_Paris\n",
        "Paris_merged.rename(columns = {'Name': 'Neighborhood'}, inplace = True)\n",
        "# merge Paris_grouped with Paris_data to add latitude/longitude for each neighborhood\n",
        "Paris_merged = Paris_merged.join(neighborhoods_venues_sorted.set_index('Neighborhood'), on='Neighborhood')\n",
        "\n",
        "Paris_merged.head() # check the last columns!"
      ],
      "execution_count": null,
      "outputs": []
    },
    {
      "cell_type": "code",
      "metadata": {
        "id": "wMNBBcrzoW0q"
      },
      "source": [
        "Paris_merged.fillna(0, inplace=True)\n",
        "Paris_merged['Cluster Labels']"
      ],
      "execution_count": null,
      "outputs": []
    },
    {
      "cell_type": "code",
      "metadata": {
        "id": "XSj6ktopoXhT"
      },
      "source": [
        "Paris_merged = Paris_merged.astype({'Cluster Labels': int})"
      ],
      "execution_count": null,
      "outputs": []
    },
    {
      "cell_type": "code",
      "metadata": {
        "id": "RYa0s82JoZTv"
      },
      "source": [
        "# create map\n",
        "map_clusters = folium.Map(location=[latitude, longitude], zoom_start=11)\n",
        "\n",
        "# set color scheme for the clusters\n",
        "x = np.arange(kclusters)\n",
        "ys = [i + x + (i*x)**2 for i in range(kclusters)]\n",
        "colors_array = cm.rainbow(np.linspace(0, 1, len(ys)))\n",
        "rainbow = [colors.rgb2hex(i) for i in colors_array]\n",
        "\n",
        "# add markers to the map\n",
        "markers_colors = []\n",
        "for lat, lon, poi, cluster in zip(Paris_merged['latitude'], Paris_merged['longitude'], Paris_merged['Neighborhood'], Paris_merged['Cluster Labels']):\n",
        "    label = folium.Popup(str(poi) + ' Cluster ' + str(cluster), parse_html=True)\n",
        "    folium.CircleMarker(\n",
        "        [lat, lon],\n",
        "        radius=5,\n",
        "        popup=label,\n",
        "        color=rainbow[int(cluster)-1],\n",
        "        fill=True,\n",
        "        fill_color=rainbow[int(cluster)-1],\n",
        "        fill_opacity=0.7).add_to(map_clusters)\n",
        "       \n",
        "map_clusters"
      ],
      "execution_count": null,
      "outputs": []
    },
    {
      "cell_type": "code",
      "metadata": {
        "id": "SRb1DZ7XobMf"
      },
      "source": [
        "print(Paris_merged.loc[Paris_merged['Cluster Labels'] == 0, Paris_merged.columns[[1] + list(range(5, Paris_merged.shape[1]))]].shape[0])\n",
        "print(Paris_merged.loc[Paris_merged['Cluster Labels'] == 1, Paris_merged.columns[[1] + list(range(5, Paris_merged.shape[1]))]].shape[0])\n",
        "print(Paris_merged.loc[Paris_merged['Cluster Labels'] == 2, Paris_merged.columns[[1] + list(range(5, Paris_merged.shape[1]))]].shape[0])\n",
        "print(Paris_merged.loc[Paris_merged['Cluster Labels'] == 3, Paris_merged.columns[[1] + list(range(5, Paris_merged.shape[1]))]].shape[0])\n",
        "print(Paris_merged.loc[Paris_merged['Cluster Labels'] == 4, Paris_merged.columns[[1] + list(range(5, Paris_merged.shape[1]))]].shape[0])"
      ],
      "execution_count": null,
      "outputs": []
    },
    {
      "cell_type": "markdown",
      "metadata": {
        "id": "vdD990uIoi7k"
      },
      "source": [
        "the size of Toronto clusters are:\n",
        "88, 1, 11, 1, 2\n",
        "\n",
        "the size of NY clusters are:\n",
        "294, 18, 2, 210, 88\n",
        "\n",
        "the size of Paris clusters are:\n",
        "9, 1, 1, 2, 7\n",
        "\n",
        "NY clusters are bigger than others but closer to Toronto if compared to Paris"
      ]
    },
    {
      "cell_type": "code",
      "metadata": {
        "id": "zzs-pp6wokVN"
      },
      "source": [
        ""
      ],
      "execution_count": null,
      "outputs": []
    }
  ]
}