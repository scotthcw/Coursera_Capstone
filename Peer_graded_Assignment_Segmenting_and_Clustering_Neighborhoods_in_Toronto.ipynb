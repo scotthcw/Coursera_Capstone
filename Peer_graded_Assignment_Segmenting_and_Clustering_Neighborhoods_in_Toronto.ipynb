{
  "nbformat": 4,
  "nbformat_minor": 0,
  "metadata": {
    "colab": {
      "name": "Peer-graded Assignment: Segmenting and Clustering Neighborhoods in Toronto.ipynb",
      "provenance": [],
      "authorship_tag": "ABX9TyP3pdD+UCPcBGKCcz6b8cmV",
      "include_colab_link": true
    },
    "kernelspec": {
      "name": "python3",
      "display_name": "Python 3"
    },
    "language_info": {
      "name": "python"
    }
  },
  "cells": [
    {
      "cell_type": "markdown",
      "metadata": {
        "id": "view-in-github",
        "colab_type": "text"
      },
      "source": [
        "<a href=\"https://colab.research.google.com/github/scotthcw/Coursera_Capstone/blob/PeerAssignment/Peer_graded_Assignment_Segmenting_and_Clustering_Neighborhoods_in_Toronto.ipynb\" target=\"_parent\"><img src=\"https://colab.research.google.com/assets/colab-badge.svg\" alt=\"Open In Colab\"/></a>"
      ]
    },
    {
      "cell_type": "markdown",
      "metadata": {
        "id": "narIBviAMYBB"
      },
      "source": [
        "Question 1: Webscrapping on Toronto neighborhood"
      ]
    },
    {
      "cell_type": "code",
      "metadata": {
        "colab": {
          "base_uri": "https://localhost:8080/"
        },
        "id": "r8Ydn5GtEUk4",
        "outputId": "e120dafb-098e-4261-b61c-a6c8e582cc3f"
      },
      "source": [
        "import requests # library to handle requests\n",
        "import pandas as pd # library for data analsysis\n",
        "import numpy as np # library to handle data in a vectorized manner\n",
        "import random # library for random number generation\n",
        "\n",
        "\n",
        "!pip install geopy\n",
        "from geopy.geocoders import Nominatim # module to convert an address into latitude and longitude values\n",
        "\n",
        "# libraries for displaying images\n",
        "from IPython.display import Image \n",
        "from IPython.core.display import HTML \n",
        "    \n",
        "# tranforming json file into a pandas dataframe library\n",
        "from pandas.io.json import json_normalize\n",
        "\n",
        "\n",
        "! pip install folium==0.5.0\n",
        "import folium # plotting library\n",
        "\n",
        "print('Folium installed')\n",
        "print('Libraries imported.')"
      ],
      "execution_count": 19,
      "outputs": [
        {
          "output_type": "stream",
          "text": [
            "Requirement already satisfied: geopy in /usr/local/lib/python3.7/dist-packages (1.17.0)\n",
            "Requirement already satisfied: geographiclib<2,>=1.49 in /usr/local/lib/python3.7/dist-packages (from geopy) (1.50)\n",
            "Requirement already satisfied: folium==0.5.0 in /usr/local/lib/python3.7/dist-packages (0.5.0)\n",
            "Requirement already satisfied: branca in /usr/local/lib/python3.7/dist-packages (from folium==0.5.0) (0.4.2)\n",
            "Requirement already satisfied: jinja2 in /usr/local/lib/python3.7/dist-packages (from folium==0.5.0) (2.11.3)\n",
            "Requirement already satisfied: six in /usr/local/lib/python3.7/dist-packages (from folium==0.5.0) (1.15.0)\n",
            "Requirement already satisfied: requests in /usr/local/lib/python3.7/dist-packages (from folium==0.5.0) (2.23.0)\n",
            "Requirement already satisfied: MarkupSafe>=0.23 in /usr/local/lib/python3.7/dist-packages (from jinja2->folium==0.5.0) (1.1.1)\n",
            "Requirement already satisfied: urllib3!=1.25.0,!=1.25.1,<1.26,>=1.21.1 in /usr/local/lib/python3.7/dist-packages (from requests->folium==0.5.0) (1.24.3)\n",
            "Requirement already satisfied: idna<3,>=2.5 in /usr/local/lib/python3.7/dist-packages (from requests->folium==0.5.0) (2.10)\n",
            "Requirement already satisfied: chardet<4,>=3.0.2 in /usr/local/lib/python3.7/dist-packages (from requests->folium==0.5.0) (3.0.4)\n",
            "Requirement already satisfied: certifi>=2017.4.17 in /usr/local/lib/python3.7/dist-packages (from requests->folium==0.5.0) (2020.12.5)\n",
            "Folium installed\n",
            "Libraries imported.\n"
          ],
          "name": "stdout"
        }
      ]
    },
    {
      "cell_type": "code",
      "metadata": {
        "colab": {
          "base_uri": "https://localhost:8080/"
        },
        "id": "XS4eJAIqGdZN",
        "outputId": "74d6a6fd-6bbd-4125-f514-0da89a4932f2"
      },
      "source": [
        "CLIENT_ID = 'QMJFDRPLADQTU0WLSWID2WWYY51K4UNG3GJOT4B2NFMPC3LK' # your Foursquare ID\n",
        "CLIENT_SECRET = 'YVAJ5RVFPIT3QETVYVITDZU0EFLASFNKAN44EX4XSEZ34PQT' # your Foursquare Secret\n",
        "ACCESS_TOKEN = '4WOE5WEL53Y3RISWKNJAQG34FWEMS5DR2TX3401KMULFGBVQ' # your FourSquare Access Token\n",
        "VERSION = '20180604'\n",
        "LIMIT = 30\n",
        "print('Your credentails:')\n",
        "print('CLIENT_ID: ' + CLIENT_ID)\n",
        "print('CLIENT_SECRET:' + CLIENT_SECRET)"
      ],
      "execution_count": 20,
      "outputs": [
        {
          "output_type": "stream",
          "text": [
            "Your credentails:\n",
            "CLIENT_ID: QMJFDRPLADQTU0WLSWID2WWYY51K4UNG3GJOT4B2NFMPC3LK\n",
            "CLIENT_SECRET:YVAJ5RVFPIT3QETVYVITDZU0EFLASFNKAN44EX4XSEZ34PQT\n"
          ],
          "name": "stdout"
        }
      ]
    },
    {
      "cell_type": "code",
      "metadata": {
        "colab": {
          "base_uri": "https://localhost:8080/"
        },
        "id": "kYRhINflGhL-",
        "outputId": "3aff40af-57ec-45cc-b991-d44d15279242"
      },
      "source": [
        "address = 'Toronto'\n",
        "\n",
        "geolocator = Nominatim(user_agent=\"foursquare_agent\")\n",
        "location = geolocator.geocode(address)\n",
        "latitude = location.latitude\n",
        "longitude = location.longitude\n",
        "print(latitude, longitude)"
      ],
      "execution_count": 21,
      "outputs": [
        {
          "output_type": "stream",
          "text": [
            "43.6534817 -79.3839347\n"
          ],
          "name": "stdout"
        }
      ]
    },
    {
      "cell_type": "code",
      "metadata": {
        "id": "lYOdvRMKG1rG"
      },
      "source": [
        "url = 'https://en.wikipedia.org/wiki/List_of_postal_codes_of_Canada:_M'\n",
        "results = requests.get(url)"
      ],
      "execution_count": 22,
      "outputs": []
    },
    {
      "cell_type": "code",
      "metadata": {
        "id": "Yx61dO2TKn09"
      },
      "source": [
        "from bs4 import BeautifulSoup\n",
        "soup = BeautifulSoup(results.content, 'html.parser')"
      ],
      "execution_count": 23,
      "outputs": []
    },
    {
      "cell_type": "code",
      "metadata": {
        "id": "ywRcZHrOKJFO"
      },
      "source": [
        "table_contents=[]\n",
        "table=soup.find('table')\n",
        "for row in table.findAll('td'):\n",
        "    cell = {}\n",
        "    if row.span.text=='Not assigned':\n",
        "        pass\n",
        "    else:\n",
        "        cell['PostalCode'] = row.p.text[:3]\n",
        "        cell['Borough'] = (row.span.text).split('(')[0]\n",
        "        cell['Neighborhood'] = (((((row.span.text).split('(')[1]).strip(')')).replace(' /',',')).replace(')',' ')).strip(' ')\n",
        "        table_contents.append(cell)\n",
        "\n",
        "# print(table_contents)\n",
        "df=pd.DataFrame(table_contents)\n",
        "df['Borough']=df['Borough'].replace({'Downtown TorontoStn A PO Boxes25 The Esplanade':'Downtown Toronto Stn A',\n",
        "                                             'East TorontoBusiness reply mail Processing Centre969 Eastern':'East Toronto Business',\n",
        "                                             'EtobicokeNorthwest':'Etobicoke Northwest','East YorkEast Toronto':'East York/East Toronto',\n",
        "                                             'MississaugaCanada Post Gateway Processing Centre':'Mississauga'})"
      ],
      "execution_count": 24,
      "outputs": []
    },
    {
      "cell_type": "code",
      "metadata": {
        "colab": {
          "base_uri": "https://localhost:8080/"
        },
        "id": "629-RyeRISH0",
        "outputId": "4edefbf9-07f3-4a6f-c034-1aeb8845b3b9"
      },
      "source": [
        "df.shape"
      ],
      "execution_count": 25,
      "outputs": [
        {
          "output_type": "execute_result",
          "data": {
            "text/plain": [
              "(103, 3)"
            ]
          },
          "metadata": {
            "tags": []
          },
          "execution_count": 25
        }
      ]
    },
    {
      "cell_type": "markdown",
      "metadata": {
        "id": "_F5xv_GGNjS6"
      },
      "source": [
        "Question 2: "
      ]
    },
    {
      "cell_type": "code",
      "metadata": {
        "colab": {
          "base_uri": "https://localhost:8080/"
        },
        "id": "qAa2KU9fOb3P",
        "outputId": "c67eda95-c370-4de1-a615-30a0b7a6006f"
      },
      "source": [
        "!pip install geocoder"
      ],
      "execution_count": 51,
      "outputs": [
        {
          "output_type": "stream",
          "text": [
            "Requirement already satisfied: geocoder in /usr/local/lib/python3.7/dist-packages (1.38.1)\n",
            "Requirement already satisfied: six in /usr/local/lib/python3.7/dist-packages (from geocoder) (1.15.0)\n",
            "Requirement already satisfied: ratelim in /usr/local/lib/python3.7/dist-packages (from geocoder) (0.1.6)\n",
            "Requirement already satisfied: click in /usr/local/lib/python3.7/dist-packages (from geocoder) (7.1.2)\n",
            "Requirement already satisfied: requests in /usr/local/lib/python3.7/dist-packages (from geocoder) (2.23.0)\n",
            "Requirement already satisfied: future in /usr/local/lib/python3.7/dist-packages (from geocoder) (0.16.0)\n",
            "Requirement already satisfied: decorator in /usr/local/lib/python3.7/dist-packages (from ratelim->geocoder) (4.4.2)\n",
            "Requirement already satisfied: certifi>=2017.4.17 in /usr/local/lib/python3.7/dist-packages (from requests->geocoder) (2020.12.5)\n",
            "Requirement already satisfied: idna<3,>=2.5 in /usr/local/lib/python3.7/dist-packages (from requests->geocoder) (2.10)\n",
            "Requirement already satisfied: chardet<4,>=3.0.2 in /usr/local/lib/python3.7/dist-packages (from requests->geocoder) (3.0.4)\n",
            "Requirement already satisfied: urllib3!=1.25.0,!=1.25.1,<1.26,>=1.21.1 in /usr/local/lib/python3.7/dist-packages (from requests->geocoder) (1.24.3)\n"
          ],
          "name": "stdout"
        }
      ]
    },
    {
      "cell_type": "code",
      "metadata": {
        "id": "LojcNsmyQGbB"
      },
      "source": [
        "df_coordinate = pd.read_csv('https://cf-courses-data.s3.us.cloud-object-storage.appdomain.cloud/IBMDeveloperSkillsNetwork-DS0701EN-SkillsNetwork/labs_v1/Geospatial_Coordinates.csv')"
      ],
      "execution_count": 52,
      "outputs": []
    },
    {
      "cell_type": "code",
      "metadata": {
        "colab": {
          "base_uri": "https://localhost:8080/"
        },
        "id": "eGoKehlTQRQm",
        "outputId": "968b772b-7d69-481b-cf10-7f9860815865"
      },
      "source": [
        "[df_coordinate]"
      ],
      "execution_count": 28,
      "outputs": [
        {
          "output_type": "execute_result",
          "data": {
            "text/plain": [
              "[    Postal Code   Latitude  Longitude\n",
              " 0           M1B  43.806686 -79.194353\n",
              " 1           M1C  43.784535 -79.160497\n",
              " 2           M1E  43.763573 -79.188711\n",
              " 3           M1G  43.770992 -79.216917\n",
              " 4           M1H  43.773136 -79.239476\n",
              " ..          ...        ...        ...\n",
              " 98          M9N  43.706876 -79.518188\n",
              " 99          M9P  43.696319 -79.532242\n",
              " 100         M9R  43.688905 -79.554724\n",
              " 101         M9V  43.739416 -79.588437\n",
              " 102         M9W  43.706748 -79.594054\n",
              " \n",
              " [103 rows x 3 columns]]"
            ]
          },
          "metadata": {
            "tags": []
          },
          "execution_count": 28
        }
      ]
    },
    {
      "cell_type": "code",
      "metadata": {
        "colab": {
          "base_uri": "https://localhost:8080/"
        },
        "id": "fZgh9o-TR9hF",
        "outputId": "63a6bac7-04cf-4734-f347-37d64846e07c"
      },
      "source": [
        "!pip install reverse_geocoder"
      ],
      "execution_count": 53,
      "outputs": [
        {
          "output_type": "stream",
          "text": [
            "Requirement already satisfied: reverse_geocoder in /usr/local/lib/python3.7/dist-packages (1.5.1)\n",
            "Requirement already satisfied: scipy>=0.17.1 in /usr/local/lib/python3.7/dist-packages (from reverse_geocoder) (1.4.1)\n",
            "Requirement already satisfied: numpy>=1.11.0 in /usr/local/lib/python3.7/dist-packages (from reverse_geocoder) (1.19.5)\n"
          ],
          "name": "stdout"
        }
      ]
    },
    {
      "cell_type": "code",
      "metadata": {
        "id": "6BkvLa8aR5zm"
      },
      "source": [
        "import reverse_geocoder as rg\n",
        "import pprint"
      ],
      "execution_count": 54,
      "outputs": []
    },
    {
      "cell_type": "code",
      "metadata": {
        "colab": {
          "base_uri": "https://localhost:8080/"
        },
        "id": "KkUzVIG3UVpI",
        "outputId": "59f0fb15-5073-484b-cd6e-3ca8de6c9646"
      },
      "source": [
        "df_coordinate.iloc[0,1]"
      ],
      "execution_count": 31,
      "outputs": [
        {
          "output_type": "execute_result",
          "data": {
            "text/plain": [
              "43.806686299999996"
            ]
          },
          "metadata": {
            "tags": []
          },
          "execution_count": 31
        }
      ]
    },
    {
      "cell_type": "code",
      "metadata": {
        "colab": {
          "base_uri": "https://localhost:8080/"
        },
        "id": "g3DSI_obL8h9",
        "outputId": "8070fb9d-a065-49bb-c8d1-3f9346d3be5c"
      },
      "source": [
        "size = df_coordinate.shape[0]\n",
        "size\n",
        "i = 0\n",
        "\n",
        "#record = df_coordinate['Latitude']['Longitude'].to_records(index=False)\n",
        "\n",
        "#coordinate = list (record)\n",
        "\n",
        "print (rg.search((43.8066863,-79.1943534)))"
      ],
      "execution_count": 32,
      "outputs": [
        {
          "output_type": "stream",
          "text": [
            "[OrderedDict([('lat', '43.77223'), ('lon', '-79.25666'), ('name', 'Scarborough'), ('admin1', 'Ontario'), ('admin2', ''), ('cc', 'CA')])]\n"
          ],
          "name": "stdout"
        }
      ]
    },
    {
      "cell_type": "code",
      "metadata": {
        "colab": {
          "base_uri": "https://localhost:8080/"
        },
        "id": "tbR9-KWtfQsr",
        "outputId": "152c8c07-e9fb-4ae7-9a4b-ac54e6e2343a"
      },
      "source": [
        "!pip install geocoder\n",
        "import geocoder # import geocoder"
      ],
      "execution_count": 57,
      "outputs": [
        {
          "output_type": "stream",
          "text": [
            "Requirement already satisfied: geocoder in /usr/local/lib/python3.7/dist-packages (1.38.1)\n",
            "Requirement already satisfied: ratelim in /usr/local/lib/python3.7/dist-packages (from geocoder) (0.1.6)\n",
            "Requirement already satisfied: six in /usr/local/lib/python3.7/dist-packages (from geocoder) (1.15.0)\n",
            "Requirement already satisfied: click in /usr/local/lib/python3.7/dist-packages (from geocoder) (7.1.2)\n",
            "Requirement already satisfied: requests in /usr/local/lib/python3.7/dist-packages (from geocoder) (2.23.0)\n",
            "Requirement already satisfied: future in /usr/local/lib/python3.7/dist-packages (from geocoder) (0.16.0)\n",
            "Requirement already satisfied: decorator in /usr/local/lib/python3.7/dist-packages (from ratelim->geocoder) (4.4.2)\n",
            "Requirement already satisfied: urllib3!=1.25.0,!=1.25.1,<1.26,>=1.21.1 in /usr/local/lib/python3.7/dist-packages (from requests->geocoder) (1.24.3)\n",
            "Requirement already satisfied: certifi>=2017.4.17 in /usr/local/lib/python3.7/dist-packages (from requests->geocoder) (2020.12.5)\n",
            "Requirement already satisfied: chardet<4,>=3.0.2 in /usr/local/lib/python3.7/dist-packages (from requests->geocoder) (3.0.4)\n",
            "Requirement already satisfied: idna<3,>=2.5 in /usr/local/lib/python3.7/dist-packages (from requests->geocoder) (2.10)\n"
          ],
          "name": "stdout"
        }
      ]
    },
    {
      "cell_type": "code",
      "metadata": {
        "colab": {
          "base_uri": "https://localhost:8080/"
        },
        "id": "kabaxmXON3ZF",
        "outputId": "bc45d8c0-40b6-4025-b5cc-60e7d9ff589e"
      },
      "source": [
        "pip install geopy"
      ],
      "execution_count": 55,
      "outputs": [
        {
          "output_type": "stream",
          "text": [
            "Requirement already satisfied: geopy in /usr/local/lib/python3.7/dist-packages (1.17.0)\n",
            "Requirement already satisfied: geographiclib<2,>=1.49 in /usr/local/lib/python3.7/dist-packages (from geopy) (1.50)\n"
          ],
          "name": "stdout"
        }
      ]
    },
    {
      "cell_type": "code",
      "metadata": {
        "colab": {
          "base_uri": "https://localhost:8080/",
          "height": 1000
        },
        "id": "8gTLclsPk8Os",
        "outputId": "10b85143-b521-45ca-8d55-b46154919c93"
      },
      "source": [
        "# Latitude & Longitude input\n",
        "i=0\n",
        "df_coordinate ['Borough'] = \"\"\n",
        "df_coordinate ['Neighborhood'] = \"\"\n",
        "for i in range (df_coordinate.shape[0]):\n",
        "  Latitude = str(df_coordinate.iloc[i,1])\n",
        "  Longitude = str(df_coordinate.iloc[i,2])\n",
        "  print (Latitude, Longitude)\n",
        "  lala = geolocator.reverse(Latitude+\",\"+Longitude)\n",
        "  #print (lala)\n",
        "  location = str(lala)\n",
        "  arrLoc = location.split(\",\")\n",
        "  print (arrLoc[-6])\n",
        "  print (arrLoc[1])\n",
        "  df_coordinate.loc [i, 'Borough'] = arrLoc[-6]\n",
        "  df_coordinate.loc [i, 'Neighborhood'] = arrLoc[1]\n",
        "\n",
        "  \n",
        "# Display\n",
        "df_coordinate"
      ],
      "execution_count": 62,
      "outputs": [
        {
          "output_type": "stream",
          "text": [
            "43.806686299999996 -79.19435340000001\n",
            " Scarborough\n",
            " Thornmount Drive\n",
            "43.7845351 -79.16049709999999\n",
            " Scarborough\n",
            " Meadowvale Road\n",
            "43.7635726 -79.1887115\n",
            " Scarborough\n",
            " Kitchener Road\n",
            "43.7709921 -79.21691740000001\n",
            " Scarborough\n",
            " Hoshlega Drive\n",
            "43.773136 -79.23947609999999\n",
            " Scarborough\n",
            " Amberjack Boulevard\n",
            "43.7447342 -79.23947609999999\n",
            " Scarborough\n",
            " 431\n",
            "43.7279292 -79.26202940000002\n",
            " Scarborough\n",
            " Merrian Road\n",
            "43.711111700000004 -79.2845772\n",
            " Scarborough\n",
            " 3276\n",
            "43.716316 -79.23947609999999\n",
            " Scarborough\n",
            " Thatcher Avenue\n",
            "43.692657000000004 -79.2648481\n",
            " Scarborough\n",
            " Birchcliff Avenue\n",
            "43.7574096 -79.27330400000001\n",
            " Scarborough\n",
            " Kennedy\n",
            "43.750071500000004 -79.2958491\n",
            " Scarborough\n",
            " Ainsdale Road\n",
            "43.7942003 -79.26202940000002\n",
            " Scarborough\n",
            " Commander Boulevard\n",
            "43.7816375 -79.3043021\n",
            " Scarborough\n",
            " Bay Mills Boulevard\n",
            "43.8152522 -79.2845772\n",
            " Scarborough\n",
            " Campania Crescent\n",
            "43.799525200000005 -79.3183887\n",
            " Scarborough\n",
            " 2900\n",
            "43.836124700000006 -79.20563609999999\n",
            " Scarborough\n",
            " Scarborough—Rouge Park\n",
            "43.8037622 -79.3634517\n",
            " North York\n",
            " Francine Drive\n",
            "43.7785175 -79.3465557\n",
            " North York\n",
            " Fairview Mall Drive\n",
            "43.7869473 -79.385975\n",
            " North York\n",
            " Mango Drive\n",
            "43.7574902 -79.37471409999999\n",
            " North York\n",
            " Farrington Drive\n",
            "43.789053 -79.40849279999999\n",
            " North York\n",
            " Cummer Avenue\n",
            "43.7701199 -79.40849279999999\n",
            " North York\n",
            " Empress Avenue\n",
            "43.752758299999996 -79.4000493\n",
            " North York\n",
            " Lord Seaton Road\n",
            "43.7827364 -79.4422593\n",
            " North York\n",
            " Digby Court\n",
            "43.7532586 -79.3296565\n",
            " North York\n",
            " Brookbanks Drive\n",
            "43.745905799999996 -79.352188\n",
            " North York\n",
            " Don Valley East\n",
            "43.72589970000001 -79.340923\n",
            " North York\n",
            " Don Mills Road\n",
            "43.7543283 -79.4422593\n",
            " North York\n",
            " Sheppard Avenue West\n",
            "43.7679803 -79.48726190000001\n",
            " North York\n",
            " York Centre\n",
            "43.737473200000004 -79.46476329999999\n",
            " North York\n",
            " Powell Road\n",
            "43.7390146 -79.5069436\n",
            " North York\n",
            " Kanarick Crescent\n",
            "43.7284964 -79.49569740000001\n",
            " North York\n",
            " Deevale Road\n",
            "43.7616313 -79.52099940000001\n",
            " North York\n",
            " Hullmar Drive\n",
            "43.725882299999995 -79.31557159999998\n",
            " North York\n",
            " 1695\n",
            "43.7063972 -79.309937\n",
            " East York\n",
            " St Clair Avenue East\n",
            "43.695343900000005 -79.3183887\n",
            " East York\n",
            " Virginia Avenue\n",
            "43.67635739999999 -79.2930312\n",
            " Old Toronto\n",
            " Pine Crescent\n",
            "43.7090604 -79.3634517\n",
            " East York\n",
            " Laird Drive\n",
            "43.7053689 -79.34937190000001\n",
            " East York\n",
            " Overlea Boulevard\n",
            "43.685347 -79.3381065\n",
            " East York\n",
            " Marlow Avenue\n",
            "43.6795571 -79.352188\n",
            " Old Toronto\n",
            " Chester Avenue\n",
            "43.6689985 -79.31557159999998\n",
            " Old Toronto\n",
            " Dundas Street East\n",
            "43.6595255 -79.340923\n",
            " Old Toronto\n",
            " Morse Street\n",
            "43.7280205 -79.3887901\n",
            " North York\n",
            " Lawrence Avenue East\n",
            "43.7127511 -79.3901975\n",
            " Old Toronto\n",
            " Erskine Avenue\n",
            "43.7153834 -79.40567840000001\n",
            " Old Toronto\n",
            " Lytton Boulevard\n",
            "43.7043244 -79.3887901\n",
            " Old Toronto\n",
            " Manor Road East\n",
            "43.6895743 -79.38315990000001\n",
            " Old Toronto\n",
            " Mount Pleasant Road\n",
            "43.68641229999999 -79.4000493\n",
            " Old Toronto\n",
            " 111\n",
            "43.6795626 -79.37752940000001\n",
            " Old Toronto\n",
            " Lamport Avenue\n",
            "43.667967 -79.3676753\n",
            " Old Toronto\n",
            " Amelia Street\n",
            "43.6658599 -79.38315990000001\n",
            " Old Toronto\n",
            " Wellesley Street East\n",
            "43.6542599 -79.3606359\n",
            " Old Toronto\n",
            " King Street East\n",
            "43.6571618 -79.37893709999999\n",
            " Old Toronto\n",
            " Frank Natale Lane\n",
            "43.6514939 -79.3754179\n",
            " Old Toronto\n",
            " Church Street\n",
            "43.644770799999996 -79.3733064\n",
            " Old Toronto\n",
            " Freeland Street\n",
            "43.6579524 -79.3873826\n",
            " Old Toronto\n",
            " Gerrard Street West\n",
            "43.65057120000001 -79.3845675\n",
            " Old Toronto\n",
            " York Street\n",
            "43.6408157 -79.38175229999999\n",
            " Old Toronto\n",
            " Harbour Street\n",
            "43.6471768 -79.38157640000001\n",
            " Old Toronto\n",
            " PATH\n",
            "43.6481985 -79.37981690000001\n",
            " Old Toronto\n",
            " Bay Street\n",
            "43.7332825 -79.4197497\n",
            " North York\n",
            " Brooke Avenue\n",
            "43.7116948 -79.41693559999999\n",
            " Old Toronto\n",
            " Cortleigh Boulevard\n",
            "43.6969476 -79.41130720000001\n",
            " Old Toronto\n",
            " Hillholm Road\n",
            "43.6727097 -79.40567840000001\n",
            " Old Toronto\n",
            " Spadina Road\n",
            "43.6626956 -79.4000493\n",
            " Old Toronto\n",
            " Wellesley-Hoskin Cycle Track\n",
            "43.6532057 -79.4000493\n",
            " Old Toronto\n",
            " Kensington Avenue\n",
            "43.6289467 -79.3944199\n",
            " Old Toronto\n",
            " Lakeshore Avenue\n",
            "43.6464352 -79.37484599999999\n",
            " Old Toronto\n",
            " The Esplanade\n",
            "43.6484292 -79.3822802\n",
            " Old Toronto\n",
            " PATH\n",
            "43.718517999999996 -79.46476329999999\n",
            " North York\n",
            " Orfus Road\n",
            "43.709577 -79.44507259999999\n",
            " North York\n",
            " Glen Park Avenue\n",
            "43.6937813 -79.42819140000002\n",
            " York\n",
            " Glen Cedar Road\n",
            "43.6890256 -79.453512\n",
            " York\n",
            " Chudleigh Road\n",
            "43.669542 -79.4225637\n",
            " Old Toronto\n",
            " Yarmouth Road\n",
            "43.66900510000001 -79.4422593\n",
            " Old Toronto\n",
            " Lightbourn Avenue\n",
            "43.647926700000006 -79.4197497\n",
            " Old Toronto\n",
            " Ossington Avenue\n",
            "43.6368472 -79.42819140000002\n",
            " Old Toronto\n",
            " Tyndall Avenue\n",
            "43.713756200000006 -79.4900738\n",
            " North York\n",
            " Culford Road\n",
            "43.6911158 -79.47601329999999\n",
            " York\n",
            " 2690\n",
            "43.67318529999999 -79.48726190000001\n",
            " York\n",
            " Woolner Avenue\n",
            "43.6616083 -79.46476329999999\n",
            " Old Toronto\n",
            " Humberside Avenue\n",
            "43.6489597 -79.456325\n",
            " Old Toronto\n",
            " High Park Gardens\n",
            "43.6515706 -79.4844499\n",
            " Old Toronto\n",
            " Weatherell Street\n",
            "43.6623015 -79.3894938\n",
            " Old Toronto\n",
            " Grosvenor Street\n",
            "43.6369656 -79.61581899999999\n",
            " Mississauga\n",
            " Eglinton Avenue East\n",
            "43.6627439 -79.321558\n",
            " Old Toronto\n",
            " Eastern Avenue\n",
            "43.6056466 -79.50132070000001\n",
            " Etobicoke\n",
            " 60\n",
            "43.60241370000001 -79.54348409999999\n",
            " Etobicoke\n",
            " 482\n",
            "43.653653600000005 -79.5069436\n",
            " Etobicoke\n",
            " Strath Avenue\n",
            "43.6362579 -79.49850909999999\n",
            " Etobicoke\n",
            " Greenmount Road\n",
            "43.6288408 -79.52099940000001\n",
            " Etobicoke\n",
            " Jutland Road\n",
            "43.6678556 -79.53224240000002\n",
            " Etobicoke\n",
            " The Kingsway\n",
            "43.6509432 -79.55472440000001\n",
            " Etobicoke\n",
            " Westglen Crescent\n",
            "43.6435152 -79.57720079999999\n",
            " Etobicoke\n",
            " Old Burnhamthorpe Road\n",
            "43.7563033 -79.56596329999999\n",
            " North York\n",
            " Littledean Court\n",
            "43.7247659 -79.53224240000002\n",
            " North York\n",
            " Aura Lea Boulevard\n",
            "43.706876 -79.51818840000001\n",
            " York\n",
            " Robert Street\n",
            "43.696319 -79.53224240000002\n",
            " Etobicoke\n",
            " Lawrence Avenue West\n",
            "43.6889054 -79.55472440000001\n",
            " Etobicoke\n",
            " Holywell Drive\n",
            "43.739416399999996 -79.5884369\n",
            " Etobicoke\n",
            " Opal Court\n",
            "43.706748299999994 -79.5940544\n",
            " Etobicoke\n",
            " West Humber-Clairville\n"
          ],
          "name": "stdout"
        },
        {
          "output_type": "execute_result",
          "data": {
            "text/html": [
              "<div>\n",
              "<style scoped>\n",
              "    .dataframe tbody tr th:only-of-type {\n",
              "        vertical-align: middle;\n",
              "    }\n",
              "\n",
              "    .dataframe tbody tr th {\n",
              "        vertical-align: top;\n",
              "    }\n",
              "\n",
              "    .dataframe thead th {\n",
              "        text-align: right;\n",
              "    }\n",
              "</style>\n",
              "<table border=\"1\" class=\"dataframe\">\n",
              "  <thead>\n",
              "    <tr style=\"text-align: right;\">\n",
              "      <th></th>\n",
              "      <th>Postal Code</th>\n",
              "      <th>Latitude</th>\n",
              "      <th>Longitude</th>\n",
              "      <th>Borough</th>\n",
              "      <th>Neighborhood</th>\n",
              "    </tr>\n",
              "  </thead>\n",
              "  <tbody>\n",
              "    <tr>\n",
              "      <th>0</th>\n",
              "      <td>M1B</td>\n",
              "      <td>43.806686</td>\n",
              "      <td>-79.194353</td>\n",
              "      <td>Scarborough</td>\n",
              "      <td>Thornmount Drive</td>\n",
              "    </tr>\n",
              "    <tr>\n",
              "      <th>1</th>\n",
              "      <td>M1C</td>\n",
              "      <td>43.784535</td>\n",
              "      <td>-79.160497</td>\n",
              "      <td>Scarborough</td>\n",
              "      <td>Meadowvale Road</td>\n",
              "    </tr>\n",
              "    <tr>\n",
              "      <th>2</th>\n",
              "      <td>M1E</td>\n",
              "      <td>43.763573</td>\n",
              "      <td>-79.188711</td>\n",
              "      <td>Scarborough</td>\n",
              "      <td>Kitchener Road</td>\n",
              "    </tr>\n",
              "    <tr>\n",
              "      <th>3</th>\n",
              "      <td>M1G</td>\n",
              "      <td>43.770992</td>\n",
              "      <td>-79.216917</td>\n",
              "      <td>Scarborough</td>\n",
              "      <td>Hoshlega Drive</td>\n",
              "    </tr>\n",
              "    <tr>\n",
              "      <th>4</th>\n",
              "      <td>M1H</td>\n",
              "      <td>43.773136</td>\n",
              "      <td>-79.239476</td>\n",
              "      <td>Scarborough</td>\n",
              "      <td>Amberjack Boulevard</td>\n",
              "    </tr>\n",
              "    <tr>\n",
              "      <th>...</th>\n",
              "      <td>...</td>\n",
              "      <td>...</td>\n",
              "      <td>...</td>\n",
              "      <td>...</td>\n",
              "      <td>...</td>\n",
              "    </tr>\n",
              "    <tr>\n",
              "      <th>98</th>\n",
              "      <td>M9N</td>\n",
              "      <td>43.706876</td>\n",
              "      <td>-79.518188</td>\n",
              "      <td>York</td>\n",
              "      <td>Robert Street</td>\n",
              "    </tr>\n",
              "    <tr>\n",
              "      <th>99</th>\n",
              "      <td>M9P</td>\n",
              "      <td>43.696319</td>\n",
              "      <td>-79.532242</td>\n",
              "      <td>Etobicoke</td>\n",
              "      <td>Lawrence Avenue West</td>\n",
              "    </tr>\n",
              "    <tr>\n",
              "      <th>100</th>\n",
              "      <td>M9R</td>\n",
              "      <td>43.688905</td>\n",
              "      <td>-79.554724</td>\n",
              "      <td>Etobicoke</td>\n",
              "      <td>Holywell Drive</td>\n",
              "    </tr>\n",
              "    <tr>\n",
              "      <th>101</th>\n",
              "      <td>M9V</td>\n",
              "      <td>43.739416</td>\n",
              "      <td>-79.588437</td>\n",
              "      <td>Etobicoke</td>\n",
              "      <td>Opal Court</td>\n",
              "    </tr>\n",
              "    <tr>\n",
              "      <th>102</th>\n",
              "      <td>M9W</td>\n",
              "      <td>43.706748</td>\n",
              "      <td>-79.594054</td>\n",
              "      <td>Etobicoke</td>\n",
              "      <td>West Humber-Clairville</td>\n",
              "    </tr>\n",
              "  </tbody>\n",
              "</table>\n",
              "<p>103 rows × 5 columns</p>\n",
              "</div>"
            ],
            "text/plain": [
              "    Postal Code   Latitude  Longitude       Borough             Neighborhood\n",
              "0           M1B  43.806686 -79.194353   Scarborough         Thornmount Drive\n",
              "1           M1C  43.784535 -79.160497   Scarborough          Meadowvale Road\n",
              "2           M1E  43.763573 -79.188711   Scarborough           Kitchener Road\n",
              "3           M1G  43.770992 -79.216917   Scarborough           Hoshlega Drive\n",
              "4           M1H  43.773136 -79.239476   Scarborough      Amberjack Boulevard\n",
              "..          ...        ...        ...           ...                      ...\n",
              "98          M9N  43.706876 -79.518188          York            Robert Street\n",
              "99          M9P  43.696319 -79.532242     Etobicoke     Lawrence Avenue West\n",
              "100         M9R  43.688905 -79.554724     Etobicoke           Holywell Drive\n",
              "101         M9V  43.739416 -79.588437     Etobicoke               Opal Court\n",
              "102         M9W  43.706748 -79.594054     Etobicoke   West Humber-Clairville\n",
              "\n",
              "[103 rows x 5 columns]"
            ]
          },
          "metadata": {
            "tags": []
          },
          "execution_count": 62
        }
      ]
    },
    {
      "cell_type": "code",
      "metadata": {
        "colab": {
          "base_uri": "https://localhost:8080/",
          "height": 202
        },
        "id": "QtHXiZqbl8Lr",
        "outputId": "a70e0043-f784-48e3-ae26-905e839da953"
      },
      "source": [
        "df_coordinate = df_coordinate[['Postal Code', 'Borough', 'Neighborhood', 'Latitude', 'Longitude']]\n",
        "df_coordinate.head()"
      ],
      "execution_count": 63,
      "outputs": [
        {
          "output_type": "execute_result",
          "data": {
            "text/html": [
              "<div>\n",
              "<style scoped>\n",
              "    .dataframe tbody tr th:only-of-type {\n",
              "        vertical-align: middle;\n",
              "    }\n",
              "\n",
              "    .dataframe tbody tr th {\n",
              "        vertical-align: top;\n",
              "    }\n",
              "\n",
              "    .dataframe thead th {\n",
              "        text-align: right;\n",
              "    }\n",
              "</style>\n",
              "<table border=\"1\" class=\"dataframe\">\n",
              "  <thead>\n",
              "    <tr style=\"text-align: right;\">\n",
              "      <th></th>\n",
              "      <th>Postal Code</th>\n",
              "      <th>Borough</th>\n",
              "      <th>Neighborhood</th>\n",
              "      <th>Latitude</th>\n",
              "      <th>Longitude</th>\n",
              "    </tr>\n",
              "  </thead>\n",
              "  <tbody>\n",
              "    <tr>\n",
              "      <th>0</th>\n",
              "      <td>M1B</td>\n",
              "      <td>Scarborough</td>\n",
              "      <td>Thornmount Drive</td>\n",
              "      <td>43.806686</td>\n",
              "      <td>-79.194353</td>\n",
              "    </tr>\n",
              "    <tr>\n",
              "      <th>1</th>\n",
              "      <td>M1C</td>\n",
              "      <td>Scarborough</td>\n",
              "      <td>Meadowvale Road</td>\n",
              "      <td>43.784535</td>\n",
              "      <td>-79.160497</td>\n",
              "    </tr>\n",
              "    <tr>\n",
              "      <th>2</th>\n",
              "      <td>M1E</td>\n",
              "      <td>Scarborough</td>\n",
              "      <td>Kitchener Road</td>\n",
              "      <td>43.763573</td>\n",
              "      <td>-79.188711</td>\n",
              "    </tr>\n",
              "    <tr>\n",
              "      <th>3</th>\n",
              "      <td>M1G</td>\n",
              "      <td>Scarborough</td>\n",
              "      <td>Hoshlega Drive</td>\n",
              "      <td>43.770992</td>\n",
              "      <td>-79.216917</td>\n",
              "    </tr>\n",
              "    <tr>\n",
              "      <th>4</th>\n",
              "      <td>M1H</td>\n",
              "      <td>Scarborough</td>\n",
              "      <td>Amberjack Boulevard</td>\n",
              "      <td>43.773136</td>\n",
              "      <td>-79.239476</td>\n",
              "    </tr>\n",
              "  </tbody>\n",
              "</table>\n",
              "</div>"
            ],
            "text/plain": [
              "  Postal Code       Borough          Neighborhood   Latitude  Longitude\n",
              "0         M1B   Scarborough      Thornmount Drive  43.806686 -79.194353\n",
              "1         M1C   Scarborough       Meadowvale Road  43.784535 -79.160497\n",
              "2         M1E   Scarborough        Kitchener Road  43.763573 -79.188711\n",
              "3         M1G   Scarborough        Hoshlega Drive  43.770992 -79.216917\n",
              "4         M1H   Scarborough   Amberjack Boulevard  43.773136 -79.239476"
            ]
          },
          "metadata": {
            "tags": []
          },
          "execution_count": 63
        }
      ]
    }
  ]
}